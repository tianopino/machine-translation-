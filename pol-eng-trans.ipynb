{
 "cells": [
  {
   "cell_type": "code",
   "execution_count": 2,
   "metadata": {},
   "outputs": [],
   "source": [
    "import string\n",
    "from pickle import load\n",
    "from pickle import dump\n",
    "from numpy import array\n",
    "from numpy.random import shuffle\n",
    "from numpy import argmax\n",
    "\n",
    "# import Keras functions\n",
    "from tensorflow.keras.preprocessing.text import Tokenizer\n",
    "from tensorflow.keras.preprocessing.sequence import pad_sequences\n",
    "from tensorflow.keras.utils import plot_model\n",
    "from tensorflow.keras import Model\n",
    "from tensorflow.keras.layers import Input\n",
    "from tensorflow.keras.layers import Dense\n",
    "from tensorflow.keras.layers import GRU\n",
    "from tensorflow.keras.layers import Embedding\n",
    "from tensorflow.keras.layers import Bidirectional\n",
    "from tensorflow.keras.layers import RepeatVector\n",
    "from tensorflow.keras.layers import TimeDistributed\n",
    "from tensorflow.keras.callbacks import ModelCheckpoint\n",
    "from tensorflow.keras.models import load_model\n",
    "\n",
    "from attention import Attention\n",
    "\n",
    "# import BLEU calculator from NLTK\n",
    "from nltk.translate.bleu_score import corpus_bleu"
   ]
  },
  {
   "cell_type": "markdown",
   "metadata": {},
   "source": [
    "# Preprocess data"
   ]
  },
  {
   "cell_type": "code",
   "execution_count": 3,
   "metadata": {
    "tags": []
   },
   "outputs": [],
   "source": [
    "# Get data\n",
    "with open('fra.txt', 'r', encoding='utf-8') as f:\n",
    "    fra_dataset = f.read()\n",
    "    \n",
    "with open('pol.txt', 'r', encoding='utf-8') as f:\n",
    "    pol_dataset = f.read()\n",
    "    \n",
    "# lower\n",
    "fra_dataset = fra_dataset.lower()\n",
    "pol_dataset = pol_dataset.lower()\n",
    "\n",
    "# Split samples\n",
    "fra_lines = fra_dataset.strip().split('\\n')\n",
    "fra_data = [i.split('\\t')[:2] for i in fra_lines]\n",
    "\n",
    "pol_lines = pol_dataset.strip().split('\\n')\n",
    "pol_data = [i.split('\\t')[:2] for i in pol_lines]\n",
    "\n",
    "# Remove punctuation\n",
    "def remove_punct(sentence):\n",
    "    for punct in string.punctuation:\n",
    "        sentence = sentence.replace(punct, '')\n",
    "    return sentence\n",
    "\n",
    "for i in fra_data:\n",
    "    i[0] = remove_punct(i[0])\n",
    "    i[1] = remove_punct(i[1])\n",
    "    \n",
    "for i in pol_data:\n",
    "    i[0] = remove_punct(i[0])\n",
    "    i[1] = remove_punct(i[1])"
   ]
  },
  {
   "cell_type": "code",
   "execution_count": 4,
   "metadata": {},
   "outputs": [],
   "source": [
    "# Shuffle data\n",
    "shuffle(fra_data)\n",
    "fra_splitpoint = len(fra_data) // 10\n",
    "fra_train_data = fra_data[:-fra_splitpoint]\n",
    "fra_test_data = fra_data[-fra_splitpoint:]\n",
    "\n",
    "shuffle(pol_data)\n",
    "pol_splitpoint = len(pol_data) // 10\n",
    "pol_train_data = pol_data[:-pol_splitpoint]\n",
    "pol_test_data = pol_data[-pol_splitpoint:]\n",
    "\n",
    "# Save data\n",
    "dump(fra_data, open('fra_data.txt', 'wb'))\n",
    "dump(fra_train_data, open('fra_train_data.txt', 'wb'))\n",
    "dump(fra_test_data, open('fra_test_data.txt', 'wb'))\n",
    "\n",
    "dump(pol_data, open('pol_data.txt', 'wb'))\n",
    "dump(pol_train_data, open('pol_train_data.txt', 'wb'))\n",
    "dump(pol_test_data, open('pol_test_data.txt', 'wb'))"
   ]
  },
  {
   "cell_type": "markdown",
   "metadata": {},
   "source": [
    "# Train eng2fra"
   ]
  },
  {
   "cell_type": "code",
   "execution_count": 5,
   "metadata": {},
   "outputs": [],
   "source": [
    "# Load data\n",
    "fra_data = load(open('fra_data.txt', 'rb'))\n",
    "fra_train_data = load(open('fra_train_data.txt', 'rb'))\n",
    "fra_test_data = load(open('fra_test_data.txt', 'rb'))\n",
    "\n",
    "fra_data = array(fra_data)\n",
    "fra_train_data = array(fra_train_data)\n",
    "fra_test_data = array(fra_test_data)"
   ]
  },
  {
   "cell_type": "code",
   "execution_count": 6,
   "metadata": {},
   "outputs": [],
   "source": [
    "# fit a tokenizer\n",
    "eng_tokenizer = Tokenizer()\n",
    "eng_tokenizer.fit_on_texts(fra_data[:, 0])\n",
    "\n",
    "fra_tokenizer = Tokenizer()\n",
    "fra_tokenizer.fit_on_texts(fra_data[:, 1])\n",
    "\n",
    "eng_vocab_size = len(eng_tokenizer.word_index) + 1\n",
    "fra_vocab_size = len(fra_tokenizer.word_index) + 1"
   ]
  },
  {
   "cell_type": "code",
   "execution_count": 7,
   "metadata": {},
   "outputs": [
    {
     "name": "stdout",
     "output_type": "stream",
     "text": [
      "47\n",
      "55\n"
     ]
    }
   ],
   "source": [
    "print(max(len(i.split()) for i in fra_data[:, 0]))\n",
    "print(max(len(i.split()) for i in fra_data[:, 1]))"
   ]
  },
  {
   "cell_type": "code",
   "execution_count": 8,
   "metadata": {},
   "outputs": [],
   "source": [
    "# set sentence length\n",
    "eng_length = 47\n",
    "fra_length = 55"
   ]
  },
  {
   "cell_type": "code",
   "execution_count": 9,
   "metadata": {},
   "outputs": [],
   "source": [
    "# encode and pad sequences\n",
    "trainX = eng_tokenizer.texts_to_sequences(fra_train_data[:, 0])\n",
    "trainX = pad_sequences(trainX, maxlen= eng_length, padding='post')\n",
    "\n",
    "testX = eng_tokenizer.texts_to_sequences(fra_test_data[:, 0])\n",
    "testX = pad_sequences(testX, maxlen= eng_length, padding='post')\n",
    "\n",
    "trainY = fra_tokenizer.texts_to_sequences(fra_train_data[:, 1])\n",
    "trainY = pad_sequences(trainY, maxlen= fra_length, padding='post')\n",
    "\n",
    "testY = fra_tokenizer.texts_to_sequences(fra_test_data[:, 1])\n",
    "testY = pad_sequences(testY, maxlen= fra_length, padding='post')"
   ]
  },
  {
   "cell_type": "code",
   "execution_count": 10,
   "metadata": {
    "jupyter": {
     "outputs_hidden": true
    },
    "tags": []
   },
   "outputs": [
    {
     "name": "stdout",
     "output_type": "stream",
     "text": [
      "Model: \"model\"\n",
      "__________________________________________________________________________________________________\n",
      "Layer (type)                    Output Shape         Param #     Connected to                     \n",
      "==================================================================================================\n",
      "input_1 (InputLayer)            [(None, 47)]         0                                            \n",
      "__________________________________________________________________________________________________\n",
      "embedding (Embedding)           (None, 47, 200)      3126200     input_1[0][0]                    \n",
      "__________________________________________________________________________________________________\n",
      "bidirectional (Bidirectional)   (None, 47, 256)      253440      embedding[0][0]                  \n",
      "__________________________________________________________________________________________________\n",
      "last_hidden_state (Lambda)      (None, 256)          0           bidirectional[0][0]              \n",
      "__________________________________________________________________________________________________\n",
      "attention_score_vec (Dense)     (None, 47, 256)      65536       bidirectional[0][0]              \n",
      "__________________________________________________________________________________________________\n",
      "attention_score (Dot)           (None, 47)           0           last_hidden_state[0][0]          \n",
      "                                                                 attention_score_vec[0][0]        \n",
      "__________________________________________________________________________________________________\n",
      "attention_weight (Activation)   (None, 47)           0           attention_score[0][0]            \n",
      "__________________________________________________________________________________________________\n",
      "context_vector (Dot)            (None, 256)          0           bidirectional[0][0]              \n",
      "                                                                 attention_weight[0][0]           \n",
      "__________________________________________________________________________________________________\n",
      "attention_output (Concatenate)  (None, 512)          0           context_vector[0][0]             \n",
      "                                                                 last_hidden_state[0][0]          \n",
      "__________________________________________________________________________________________________\n",
      "attention_vector (Dense)        (None, 128)          65536       attention_output[0][0]           \n",
      "__________________________________________________________________________________________________\n",
      "repeat_vector (RepeatVector)    (None, 38, 128)      0           attention_vector[0][0]           \n",
      "__________________________________________________________________________________________________\n",
      "bidirectional_1 (Bidirectional) (None, 38, 256)      198144      repeat_vector[0][0]              \n",
      "__________________________________________________________________________________________________\n",
      "time_distributed (TimeDistribut (None, 38, 35275)    9065675     bidirectional_1[0][0]            \n",
      "==================================================================================================\n",
      "Total params: 12,774,531\n",
      "Trainable params: 12,774,531\n",
      "Non-trainable params: 0\n",
      "__________________________________________________________________________________________________\n",
      "None\n",
      "('You must install pydot (`pip install pydot`) and install graphviz (see instructions at https://graphviz.gitlab.io/download/) ', 'for plot_model/model_to_dot to work.')\n"
     ]
    }
   ],
   "source": [
    "# define the encoder-decoder model\n",
    "n_units = 64\n",
    "embedding_size = 200\n",
    "\n",
    "# encoder\n",
    "eng_input = Input(shape=(eng_length, ), dtype='float32')\n",
    "embedding = Embedding(eng_vocab_size, embedding_size, input_length=eng_length)(eng_input)\n",
    "encoder_gru = Bidirectional(GRU(n_units*2, return_sequences=True, dropout=0.2))(embedding)\n",
    "encoder_att = Attention()(encoder_gru)\n",
    "# decoder\n",
    "repeat = RepeatVector(fra_length)(encoder_att)\n",
    "decoder_gru = Bidirectional(GRU(n_units*2, return_sequences=True, dropout=0.2))(repeat)\n",
    "fra_output = TimeDistributed(Dense(fra_vocab_size, activation='softmax'))(decoder_gru)\n",
    "model = Model(eng_input, fra_output)\n",
    "\n",
    "# create a german to english translation model\n",
    "model.compile(optimizer='adam', loss='sparse_categorical_crossentropy')\n",
    "\n",
    "# summarise the model\n",
    "print(model.summary())\n",
    "plot_model(model, to_file='model.png', show_shapes=True)"
   ]
  },
  {
   "cell_type": "code",
   "execution_count": null,
   "metadata": {
    "jupyter": {
     "outputs_hidden": true
    },
    "tags": []
   },
   "outputs": [],
   "source": [
    "# because training takes time, we checkpoint the model during training\n",
    "# this saves the partially trained model any time that the validation loss is reduced\n",
    "filename = 'model_trans.h5'\n",
    "checkpoint = ModelCheckpoint(filename, monitor = 'val_loss', verbose = 1, save_best_only = True, mode = 'min')\n",
    "\n",
    "history = model.fit(trainX, trainY, epochs = 100, batch_size = 256, validation_data = (testX, testY), callbacks = [checkpoint], verbose = 2)\n",
    "del model"
   ]
  },
  {
   "cell_type": "code",
   "execution_count": 134,
   "metadata": {
    "tags": []
   },
   "outputs": [
    {
     "data": {
      "text/plain": [
       "<matplotlib.legend.Legend at 0x1d2f9463fa0>"
      ]
     },
     "execution_count": 134,
     "metadata": {},
     "output_type": "execute_result"
    },
    {
     "data": {
      "image/png": "[encoded data removed]",
      "text/plain": [
       "<Figure size 360x360 with 1 Axes>"
      ]
     },
     "metadata": {
      "needs_background": "light"
     },
     "output_type": "display_data"
    }
   ],
   "source": [
    "# get the history dictionary \n",
    "hist=history.history\n",
    "epochs=range(1,len(hist['loss'])+1)\n",
    "\n",
    "import matplotlib.pyplot as plt\n",
    "%matplotlib inline\n",
    "\n",
    "# plot loss curves\n",
    "plt.figure(figsize=(5,5))\n",
    "plt.plot(epochs,hist['loss'],'bo',label=\"Training loss\")\n",
    "plt.plot(epochs,hist['val_loss'],'r-',label=\"Validation loss\")\n",
    "plt.title(\"Training and Validation loss\")\n",
    "plt.xlabel(\"Epochs\")\n",
    "plt.ylabel(\"Loss\")\n",
    "plt.legend()"
   ]
  },
  {
   "cell_type": "markdown",
   "metadata": {},
   "source": [
    "# Train eng2pol\n",
    "freeze the encoder of eng2fra"
   ]
  },
  {
   "cell_type": "code",
   "execution_count": null,
   "metadata": {},
   "outputs": [],
   "source": [
    "# Load data\n",
    "pol_data = load(open('pol_data.txt', 'rb'))\n",
    "pol_train_data = load(open('pol_train_data.txt', 'rb'))\n",
    "pol_test_data = load(open('pol_test_data.txt', 'rb'))\n",
    "\n",
    "pol_data = array(pol_data)\n",
    "pol_train_data = array(pol_train_data)\n",
    "pol_test_data = array(pol_test_data)"
   ]
  },
  {
   "cell_type": "code",
   "execution_count": null,
   "metadata": {},
   "outputs": [],
   "source": [
    "# fit a tokenizer\n",
    "eng_tokenizer = Tokenizer()\n",
    "eng_tokenizer.fit_on_texts(pol_data[:, 0])\n",
    "\n",
    "pol_tokenizer = Tokenizer()\n",
    "pol_tokenizer.fit_on_texts(pol_data[:, 1])\n",
    "\n",
    "eng_vocab_size = len(eng_tokenizer.word_index) + 1\n",
    "pol_vocab_size = len(pol_tokenizer.word_index) + 1"
   ]
  },
  {
   "cell_type": "code",
   "execution_count": null,
   "metadata": {},
   "outputs": [],
   "source": [
    "print(max(len(i.split()) for i in pol_data[:, 0]))\n",
    "print(max(len(i.split()) for i in pol_data[:, 1]))"
   ]
  },
  {
   "cell_type": "code",
   "execution_count": null,
   "metadata": {},
   "outputs": [],
   "source": [
    "# set sentence length\n",
    "eng_length = 47\n",
    "pol_length = 38"
   ]
  },
  {
   "cell_type": "code",
   "execution_count": null,
   "metadata": {},
   "outputs": [],
   "source": [
    "# encode and pad sequences\n",
    "trainX = eng_tokenizer.texts_to_sequences(pol_train_data[:, 0])\n",
    "trainX = pad_sequences(trainX, maxlen= eng_length, padding='post')\n",
    "\n",
    "testX = eng_tokenizer.texts_to_sequences(pol_test_data[:, 0])\n",
    "testX = pad_sequences(testX, maxlen= eng_length, padding='post')\n",
    "\n",
    "trainY = pol_tokenizer.texts_to_sequences(pol_train_data[:, 1])\n",
    "trainY = pad_sequences(trainY, maxlen= pol_length, padding='post')\n",
    "\n",
    "testY = pol_tokenizer.texts_to_sequences(pol_test_data[:, 1])\n",
    "testY = pad_sequences(testY, maxlen= pol_length, padding='post')"
   ]
  },
  {
   "cell_type": "code",
   "execution_count": null,
   "metadata": {},
   "outputs": [],
   "source": [
    "# define the encoder-decoder model\n",
    "n_units = 64\n",
    "embedding_size = 200\n",
    "\n",
    "# encoder\n",
    "eng_input = Input(shape=(eng_length, ), dtype='float32')\n",
    "embedding = Embedding(eng_vocab_size, embedding_size, input_length=eng_length, trainable=False)(eng_input)\n",
    "encoder_gru = Bidirectional(GRU(n_units*2, return_sequences=True, dropout=0.2, trainable=False))(embedding)\n",
    "encoder_att = Attention()(encoder_gru)\n",
    "# decoder\n",
    "repeat = RepeatVector(fra_length)(encoder_att)\n",
    "decoder_gru = Bidirectional(GRU(n_units*2, return_sequences=True, dropout=0.2))(repeat)\n",
    "fra_output = TimeDistributed(Dense(fra_vocab_size, activation='softmax'))(decoder_gru)\n",
    "model = Model(eng_input, fra_output)\n",
    "\n",
    "# create a german to english translation model\n",
    "model.compile(optimizer='adam', loss='sparse_categorical_crossentropy')\n",
    "\n",
    "# summarise the model\n",
    "print(model.summary())\n",
    "plot_model(model, to_file='model.png', show_shapes=True)"
   ]
  },
  {
   "cell_type": "code",
   "execution_count": null,
   "metadata": {},
   "outputs": [],
   "source": [
    "model.load_weights('model_trans.h5')\n",
    "\n",
    "filename = 'model_trans_2.h5'\n",
    "checkpoint = ModelCheckpoint(filename, monitor = 'val_loss', verbose = 1, save_best_only = True, mode = 'min')\n",
    "\n",
    "history = model.fit(trainX, trainY, epochs = 100, batch_size = 256, validation_data = (testX, testY), callbacks = [checkpoint], verbose = 2)\n",
    "del model"
   ]
  },
  {
   "cell_type": "code",
   "execution_count": null,
   "metadata": {},
   "outputs": [],
   "source": [
    "# get the history dictionary \n",
    "hist=history.history\n",
    "epochs=range(1,len(hist['loss'])+1)\n",
    "\n",
    "import matplotlib.pyplot as plt\n",
    "%matplotlib inline\n",
    "\n",
    "# plot loss curves\n",
    "plt.figure(figsize=(5,5))\n",
    "plt.plot(epochs,hist['loss'],'bo',label=\"Training loss\")\n",
    "plt.plot(epochs,hist['val_loss'],'r-',label=\"Validation loss\")\n",
    "plt.title(\"Training and Validation loss\")\n",
    "plt.xlabel(\"Epochs\")\n",
    "plt.ylabel(\"Loss\")\n",
    "plt.legend()"
   ]
  },
  {
   "cell_type": "markdown",
   "metadata": {},
   "source": [
    "# Predict"
   ]
  },
  {
   "cell_type": "code",
   "execution_count": 136,
   "metadata": {},
   "outputs": [],
   "source": [
    "# load model\n",
    "model = load_model('model_trans_2.h5')\n",
    "\n",
    "# evaluate the performance of the model\n",
    "actual = []\n",
    "predicted = []\n",
    "for i, sample in enumerate(testX):\n",
    "    sample = sample.reshape((1, sample.shape[0]))\n",
    "    prediction = model.predict(sample, verbose=0)[0]\n",
    "    integers = [argmax(vector) for vector in prediction]\n",
    "    target = []\n",
    "    for j in integers:\n",
    "        for w, index in pol_tokenizer.word_index.items():\n",
    "            word = w if index == j else None\n",
    "        if word is None:\n",
    "            break\n",
    "        target.append(word)\n",
    "    translation = ' '.join(target)\n",
    "    \n",
    "    if i < 10:\n",
    "        print('src=[%s], target=[%s], predicted=[%s]' % (pol_test_data[i][0], pol_test_data[i][1], translation))\n",
    "        \n",
    "    actual.append([pol_test_data[i][1].split()])\n",
    "    predicted.append(translation.split())\n",
    "    \n",
    "    print('BLEU-1: %f' % corpus_bleu(actual, predicted, weights=(1.0, 0, 0, 0)))\n",
    "    print('BLEU-2: %f' % corpus_bleu(actual, predicted, weights=(0.5, 0.5, 0, 0)))\n",
    "    print('BLEU-3: %f' % corpus_bleu(actual, predicted, weights=(0.3, 0.3, 0.3, 0)))\n",
    "    print('BLEU-4: %f' % corpus_bleu(actual, predicted, weights=(0.25, 0.25, 0.25, 0.25)))"
   ]
  }
 ],
 "metadata": {
  "kernelspec": {
   "display_name": "Python 3",
   "language": "python",
   "name": "python3"
  },
  "language_info": {
   "codemirror_mode": {
    "name": "ipython",
    "version": 3
   },
   "file_extension": ".py",
   "mimetype": "text/x-python",
   "name": "python",
   "nbconvert_exporter": "python",
   "pygments_lexer": "ipython3",
   "version": "3.6.10"
  }
 },
 "nbformat": 4,
 "nbformat_minor": 5
}
